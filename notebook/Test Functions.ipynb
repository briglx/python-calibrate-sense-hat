{
 "cells": [
  {
   "cell_type": "code",
   "execution_count": 1,
   "metadata": {
    "collapsed": true
   },
   "outputs": [],
   "source": [
    "import unittest\n",
    "import numpy as np"
   ]
  },
  {
   "cell_type": "code",
   "execution_count": 78,
   "metadata": {
    "collapsed": false
   },
   "outputs": [],
   "source": [
    "from sklearn.externals import joblib\n",
    "clf = joblib.load('../filename.pkl')\n"
   ]
  },
  {
   "cell_type": "code",
   "execution_count": 242,
   "metadata": {
    "collapsed": false
   },
   "outputs": [
    {
     "data": {
      "text/plain": [
       "array([[ 0.3,  0. ,  0.2,  0.5]])"
      ]
     },
     "execution_count": 242,
     "metadata": {},
     "output_type": "execute_result"
    }
   ],
   "source": [
    "test_values = [[45,45,0]]\n",
    "clf.predict_proba(test_values)\n"
   ]
  },
  {
   "cell_type": "code",
   "execution_count": 236,
   "metadata": {
    "collapsed": false
   },
   "outputs": [],
   "source": [
    "def getPixelValue(val):\n",
    "    # takes a value between 0-33.3333\n",
    "    # Returns an array of RGB colors ranging between White -> Blue\n",
    "    # Values Close to 0 are mapped to White \n",
    "    # Values clost to 33.333 are mapped to Blue\n",
    "    # It should be a gradient between white to blue for 0 -> 33.333\n",
    "    # return black if val <= 0\n",
    "    \n",
    "    \n",
    "    if val <= 0:\n",
    "        return [0,0,0]\n",
    "\n",
    "    if val > .33333:\n",
    "        return [0,0,255]\n",
    "    \n",
    "    color = int(255 - np.round(765 * val ))\n",
    "    return [color,color,255]\n",
    "    \n",
    "    \n",
    "def getPixelsValue(val):\n",
    "    # takes a value between 0-1\n",
    "    # returns an array that represents rgb values for three pixels\n",
    "    # The pixels 'Fill up' from 0 to 1\n",
    "    # values between [0:1/3) will fill up the first pixel\n",
    "    # values between [1/3:2/3) will have the first pixel 'full' and filling the second\n",
    "    # values between [2/3:1] will have the first two pixels 'full' and the third one filling\n",
    "    # pixels are black until they start filling\n",
    "    \n",
    "    delimeter = 1.0 / 3.0\n",
    "    \n",
    "    if(int(val / delimeter) <= 0):\n",
    "        return [getPixelValue(val),[0,0,0],[0,0,0]]\n",
    "    \n",
    "    if(int(val / delimeter) == 1):\n",
    "        return [[0,0,255],getPixelValue(val % delimeter),[0,0,0]]\n",
    "    \n",
    "    if(int(val / delimeter) == 2):\n",
    "        return [[0,0,255],[0,0,255],getPixelValue(val % delimeter)]\n",
    "    \n",
    "    if(int(val / delimeter) >= 3):\n",
    "        return [[0,0,255],[0,0,255],[0,0,255]]\n",
    "    \n",
    "    "
   ]
  },
  {
   "cell_type": "code",
   "execution_count": 237,
   "metadata": {
    "collapsed": false
   },
   "outputs": [
    {
     "name": "stdout",
     "output_type": "stream",
     "text": [
      "1.0\n",
      "0.0\n",
      "0.3\n",
      "0.1\n",
      "1\n",
      "0.166666666667\n",
      "-3\n",
      "0.333333333333\n"
     ]
    }
   ],
   "source": [
    "val1 = 1.0 / 3.0\n",
    "val2 = .1\n",
    "val3 = .5  # 1 + 1/6\n",
    "val4 = -1  \n",
    "\n",
    "delimeter = 1.0 / 3.0\n",
    "\n",
    "print val1 / delimeter\n",
    "print val1 % delimeter\n",
    "\n",
    "\n",
    "\n",
    "\n",
    "print val2 / delimeter\n",
    "print val2 % delimeter\n",
    "\n",
    "print int(val3 / delimeter)\n",
    "print val3 % delimeter\n",
    "\n",
    "print int(val4 / delimeter)\n",
    "print val4 % delimeter"
   ]
  },
  {
   "cell_type": "code",
   "execution_count": 238,
   "metadata": {
    "collapsed": false
   },
   "outputs": [],
   "source": [
    "class GetPixelValueTest(unittest.TestCase):  \n",
    "\n",
    "    def test_value_0(self):  \n",
    "        \n",
    "        self.assertEqual([0,0,0], getPixelValue(0))  \n",
    "        \n",
    "    def test_value_00012(self):  \n",
    "        \n",
    "        self.assertEqual([255,255,255], getPixelValue(0.00012))  \n",
    "\n",
    "    def test_value_33_33(self):  \n",
    "        \n",
    "        self.assertEqual([0,0,255], getPixelValue(.33333)) \n",
    "        \n",
    "    def test_value_33_34(self):  \n",
    "        \n",
    "        self.assertEqual([0,0,255], getPixelValue(.3334)) \n",
    "        \n",
    "    def test_value_33(self):  \n",
    "        \n",
    "        self.assertEqual([3,3,255], getPixelValue(.33)) \n",
    "        \n",
    "    def test_value_15(self):  \n",
    "        \n",
    "        self.assertEqual([140,140,255], getPixelValue(.15)) \n",
    "        \n",
    "    def test_value_11(self):  \n",
    "        \n",
    "        self.assertEqual([171,171,255], getPixelValue(.11))  \n",
    "        \n",
    "    def test_value_negative(self):  \n",
    "        \n",
    "        self.assertEqual([0,0,0], getPixelValue(-1))"
   ]
  },
  {
   "cell_type": "code",
   "execution_count": 239,
   "metadata": {
    "collapsed": false
   },
   "outputs": [
    {
     "name": "stderr",
     "output_type": "stream",
     "text": [
      "test_value_0 (__main__.GetPixelValueTest) ... ok\n",
      "test_value_00012 (__main__.GetPixelValueTest) ... ok\n",
      "test_value_11 (__main__.GetPixelValueTest) ... ok\n",
      "test_value_15 (__main__.GetPixelValueTest) ... ok\n",
      "test_value_33 (__main__.GetPixelValueTest) ... ok\n",
      "test_value_33_33 (__main__.GetPixelValueTest) ... ok\n",
      "test_value_33_34 (__main__.GetPixelValueTest) ... ok\n",
      "test_value_negative (__main__.GetPixelValueTest) ... ok\n",
      "\n",
      "----------------------------------------------------------------------\n",
      "Ran 8 tests in 0.009s\n",
      "\n",
      "OK\n"
     ]
    },
    {
     "data": {
      "text/plain": [
       "<unittest.runner.TextTestResult run=8 errors=0 failures=0>"
      ]
     },
     "execution_count": 239,
     "metadata": {},
     "output_type": "execute_result"
    }
   ],
   "source": [
    "suite = unittest.TestLoader().loadTestsFromTestCase(GetPixelValueTest)\n",
    "unittest.TextTestRunner(verbosity=2).run(suite)"
   ]
  },
  {
   "cell_type": "code",
   "execution_count": 240,
   "metadata": {
    "collapsed": false
   },
   "outputs": [],
   "source": [
    "class GetPixelsValueTest(unittest.TestCase):\n",
    "    \n",
    "    def test_value_negative1(self):\n",
    "        self.assertEqual([[0,0,0],[0,0,0],[0,0,0]], getPixelsValue(-1)) \n",
    "        \n",
    "    def test_value_0(self):\n",
    "        self.assertEqual([[0,0,0],[0,0,0],[0,0,0]], getPixelsValue(0)) \n",
    "        \n",
    "    def test_value_15(self):\n",
    "        self.assertEqual([[140,140,255],[0,0,0],[0,0,0]], getPixelsValue(.15)) \n",
    "        \n",
    "    def test_value_11(self):\n",
    "        self.assertEqual([[171,171,255],[0,0,0],[0,0,0]], getPixelsValue(.11)) \n",
    "        \n",
    "    def test_value_33333(self):\n",
    "        self.assertEqual([[0,0,255],[0,0,0],[0,0,0]], getPixelsValue(.33333)) \n",
    "        \n",
    "    def test_value_33334(self):\n",
    "        self.assertEqual([[0,0,255],[255,255,255],[0,0,0]], getPixelsValue(.3334)) \n",
    "        \n",
    "    def test_value_5(self):\n",
    "        self.assertEqual([[0,0,255],[127,127,255],[0,0,0]], getPixelsValue(.5)) \n",
    "        \n",
    "    def test_value_65(self):\n",
    "        self.assertEqual([[0,0,255],[13,13,255],[0,0,0]], getPixelsValue(.65)) \n",
    "    \n",
    "    def test_value_66666(self):\n",
    "        self.assertEqual([[0,0,255],[0,0,255],[0,0,0]], getPixelsValue(2.0/3.0)) \n",
    "        \n",
    "    def test_value_67(self):\n",
    "        self.assertEqual([[0,0,255],[0,0,255],[252,252,255] ], getPixelsValue(.67)) \n",
    "        \n",
    "    def test_value_8(self):\n",
    "        self.assertEqual([[0,0,255],[0,0,255],[153,153,255] ], getPixelsValue(.8)) \n",
    "        \n",
    "    def test_value_99(self):\n",
    "        self.assertEqual([[0,0,255],[0,0,255],[8,8,255] ], getPixelsValue(.99)) \n",
    "        \n",
    "    def test_value_one(self):\n",
    "        self.assertEqual([[0,0,255],[0,0,255],[0,0,255] ], getPixelsValue(1)) \n",
    "        \n",
    "    def test_value_one1(self):\n",
    "        self.assertEqual([[0,0,255],[0,0,255],[0,0,255] ], getPixelsValue(1.1)) \n",
    "        \n",
    "   "
   ]
  },
  {
   "cell_type": "code",
   "execution_count": 241,
   "metadata": {
    "collapsed": false
   },
   "outputs": [
    {
     "name": "stderr",
     "output_type": "stream",
     "text": [
      "test_value_0 (__main__.GetPixelsValueTest) ... ok\n",
      "test_value_11 (__main__.GetPixelsValueTest) ... ok\n",
      "test_value_15 (__main__.GetPixelsValueTest) ... ok\n",
      "test_value_33333 (__main__.GetPixelsValueTest) ... ok\n",
      "test_value_33334 (__main__.GetPixelsValueTest) ... ok\n",
      "test_value_5 (__main__.GetPixelsValueTest) ... ok\n",
      "test_value_65 (__main__.GetPixelsValueTest) ... ok\n",
      "test_value_66666 (__main__.GetPixelsValueTest) ... ok\n",
      "test_value_67 (__main__.GetPixelsValueTest) ... ok\n",
      "test_value_8 (__main__.GetPixelsValueTest) ... ok\n",
      "test_value_99 (__main__.GetPixelsValueTest) ... ok\n",
      "test_value_negative1 (__main__.GetPixelsValueTest) ... ok\n",
      "test_value_one (__main__.GetPixelsValueTest) ... ok\n",
      "test_value_one1 (__main__.GetPixelsValueTest) ... ok\n",
      "\n",
      "----------------------------------------------------------------------\n",
      "Ran 14 tests in 0.017s\n",
      "\n",
      "OK\n"
     ]
    },
    {
     "data": {
      "text/plain": [
       "<unittest.runner.TextTestResult run=14 errors=0 failures=0>"
      ]
     },
     "execution_count": 241,
     "metadata": {},
     "output_type": "execute_result"
    }
   ],
   "source": [
    "suite = unittest.TestLoader().loadTestsFromTestCase(GetPixelsValueTest)\n",
    "unittest.TextTestRunner(verbosity=2).run(suite)"
   ]
  },
  {
   "cell_type": "code",
   "execution_count": 2,
   "metadata": {
    "collapsed": false
   },
   "outputs": [],
   "source": [
    "import sys\n",
    "sys.path.insert(0, '../calibrate_sense_hat')\n",
    "sys.path.insert(0, '../test/mocks/sense_hat')\n",
    "\n",
    "from sense_hat import SenseHat\n",
    "from calibrate_sense_hat import BlxSenseHat"
   ]
  },
  {
   "cell_type": "code",
   "execution_count": 3,
   "metadata": {
    "collapsed": false
   },
   "outputs": [],
   "source": [
    "sense = SenseHat()\n",
    "blxsense = BlxSenseHat()"
   ]
  },
  {
   "cell_type": "code",
   "execution_count": 3,
   "metadata": {
    "collapsed": false
   },
   "outputs": [
    {
     "data": {
      "text/plain": [
       "0"
      ]
     },
     "execution_count": 3,
     "metadata": {},
     "output_type": "execute_result"
    }
   ],
   "source": [
    "sense.rotation"
   ]
  },
  {
   "cell_type": "code",
   "execution_count": 3,
   "metadata": {
    "collapsed": false
   },
   "outputs": [
    {
     "ename": "AttributeError",
     "evalue": "'BlxSenseHat' object has no attribute '_clf'",
     "output_type": "error",
     "traceback": [
      "\u001b[1;31m\u001b[0m",
      "\u001b[1;31mAttributeError\u001b[0mTraceback (most recent call last)",
      "\u001b[1;32m<ipython-input-3-43fe3c0d624a>\u001b[0m in \u001b[0;36m<module>\u001b[1;34m()\u001b[0m\n\u001b[1;32m----> 1\u001b[1;33m \u001b[0mprobs\u001b[0m \u001b[1;33m=\u001b[0m \u001b[0mblxsense\u001b[0m\u001b[1;33m.\u001b[0m\u001b[0m_predict_direction\u001b[0m\u001b[1;33m(\u001b[0m\u001b[1;33m[\u001b[0m\u001b[1;33m[\u001b[0m\u001b[1;36m15\u001b[0m\u001b[1;33m,\u001b[0m\u001b[1;36m30\u001b[0m\u001b[1;33m,\u001b[0m\u001b[1;36m30\u001b[0m\u001b[1;33m]\u001b[0m\u001b[1;33m]\u001b[0m\u001b[1;33m)\u001b[0m\u001b[1;33m\u001b[0m\u001b[0m\n\u001b[0m\u001b[0;32m      2\u001b[0m \u001b[1;32mprint\u001b[0m \u001b[0mprobs\u001b[0m\u001b[1;33m\u001b[0m\u001b[0m\n",
      "\u001b[1;32mC:\\Users\\brlamore\\src\\python-calibrate-sense-hat\\calibrate_sense_hat\\calibrate_sense_hat.py\u001b[0m in \u001b[0;36m_predict_direction\u001b[1;34m(self, orientation)\u001b[0m\n\u001b[0;32m    196\u001b[0m     \u001b[1;32mdef\u001b[0m \u001b[0m_predict_direction\u001b[0m\u001b[1;33m(\u001b[0m\u001b[0mself\u001b[0m\u001b[1;33m,\u001b[0m \u001b[0morientation\u001b[0m\u001b[1;33m)\u001b[0m\u001b[1;33m:\u001b[0m\u001b[1;33m\u001b[0m\u001b[0m\n\u001b[0;32m    197\u001b[0m \u001b[1;33m\u001b[0m\u001b[0m\n\u001b[1;32m--> 198\u001b[1;33m         \u001b[0mprobs\u001b[0m \u001b[1;33m=\u001b[0m \u001b[0mself\u001b[0m\u001b[1;33m.\u001b[0m\u001b[0m_clf\u001b[0m\u001b[1;33m.\u001b[0m\u001b[0mpredict_proba\u001b[0m\u001b[1;33m(\u001b[0m\u001b[0morientation\u001b[0m\u001b[1;33m)\u001b[0m\u001b[1;33m\u001b[0m\u001b[0m\n\u001b[0m\u001b[0;32m    199\u001b[0m \u001b[1;33m\u001b[0m\u001b[0m\n\u001b[0;32m    200\u001b[0m         \u001b[1;32mreturn\u001b[0m \u001b[0mprobs\u001b[0m\u001b[1;33m\u001b[0m\u001b[0m\n",
      "\u001b[1;31mAttributeError\u001b[0m: 'BlxSenseHat' object has no attribute '_clf'"
     ]
    }
   ],
   "source": [
    "probs = blxsense._predict_direction([[15,30,30]])\n",
    "print probs"
   ]
  },
  {
   "cell_type": "code",
   "execution_count": 11,
   "metadata": {
    "collapsed": false
   },
   "outputs": [
    {
     "name": "stdout",
     "output_type": "stream",
     "text": [
      "[[179, 179, 255], [0, 0, 0], [0, 0, 0]]\n",
      "[[179, 179, 255], [0, 0, 0], [0, 0, 0]]\n",
      "[[0, 0, 255], [51, 51, 255], [0, 0, 0]]\n",
      "[[102, 102, 255], [0, 0, 0], [0, 0, 0]]\n"
     ]
    }
   ],
   "source": [
    "for prob in probs[0]:\n",
    "    pixels = blxsense._getPixelsValue(prob)\n",
    "    print pixels\n",
    "# pixels"
   ]
  },
  {
   "cell_type": "code",
   "execution_count": 12,
   "metadata": {
    "collapsed": false
   },
   "outputs": [
    {
     "name": "stdout",
     "output_type": "stream",
     "text": [
      "3 3 [179, 179, 255]\n",
      "3 2 [0, 0, 0]\n",
      "3 1 [0, 0, 0]\n",
      "4 3 [179, 179, 255]\n",
      "5 3 [0, 0, 0]\n",
      "6 3 [0, 0, 0]\n",
      "4 4 [0, 0, 255]\n",
      "4 5 [51, 51, 255]\n",
      "4 6 [0, 0, 0]\n",
      "3 4 [102, 102, 255]\n",
      "2 4 [0, 0, 0]\n",
      "1 4 [0, 0, 0]\n"
     ]
    }
   ],
   "source": [
    "blxsense._set_predicted_pixels(probs)"
   ]
  },
  {
   "cell_type": "code",
   "execution_count": 5,
   "metadata": {
    "collapsed": false
   },
   "outputs": [
    {
     "name": "stdout",
     "output_type": "stream",
     "text": [
      "3 3 [179, 179, 255]\n",
      "3 2 [0, 0, 0]\n",
      "3 1 [0, 0, 0]\n",
      "4 3 [179, 179, 255]\n",
      "5 3 [0, 0, 0]\n",
      "6 3 [0, 0, 0]\n",
      "4 4 [0, 0, 255]\n",
      "4 5 [51, 51, 255]\n",
      "4 6 [0, 0, 0]\n",
      "3 4 [102, 102, 255]\n",
      "2 4 [0, 0, 0]\n",
      "1 4 [0, 0, 0]\n"
     ]
    }
   ],
   "source": [
    "blxsense._show_prediction([[15,30,30]])"
   ]
  },
  {
   "cell_type": "code",
   "execution_count": 163,
   "metadata": {
    "collapsed": false
   },
   "outputs": [],
   "source": [
    "def convert_orientation(orientation, shift=0):\n",
    "    \n",
    "    orientation = np.array([raw_orientation['pitch'], raw_orientation['roll'], raw_orientation['yaw'],  ])\n",
    "       \n",
    "    orientation = np.round(orientation).astype(int)\n",
    "    idx = np.where(orientation >180)\n",
    "    orientation[idx] = orientation[idx] - 360\n",
    "    orientation[-1]  = 90 - orientation[-1]  \n",
    "    \n",
    "    return orientation\n",
    "    "
   ]
  },
  {
   "cell_type": "code",
   "execution_count": 178,
   "metadata": {
    "collapsed": false
   },
   "outputs": [],
   "source": [
    "class Convert_orientationTest(unittest.TestCase):\n",
    "    \n",
    "    def test_value_negative1(self):\n",
    "        self.assertSequenceEqual(convert_orientation({'pitch': 4.543015803, 'roll': 331.0217818, 'yaw': 119.975442}), [1,2,3])\n",
    "        "
   ]
  },
  {
   "cell_type": "code",
   "execution_count": 179,
   "metadata": {
    "collapsed": false
   },
   "outputs": [
    {
     "name": "stderr",
     "output_type": "stream",
     "text": [
      "test_value_negative1 (__main__.Convert_orientationTest) ... ERROR\n",
      "\n",
      "======================================================================\n",
      "ERROR: test_value_negative1 (__main__.Convert_orientationTest)\n",
      "----------------------------------------------------------------------\n",
      "Traceback (most recent call last):\n",
      "  File \"<ipython-input-178-83364bee91ed>\", line 4, in test_value_negative1\n",
      "    self.assertSequenceEqual(convert_orientation({'pitch': 4.543015803, 'roll': 331.0217818, 'yaw': 119.975442}), [1,2,3])\n",
      "  File \"C:\\Users\\brlamore\\AppData\\Local\\Continuum\\Anaconda2\\lib\\unittest\\case.py\", line 663, in assertSequenceEqual\n",
      "    if seq1 == seq2:\n",
      "ValueError: The truth value of an array with more than one element is ambiguous. Use a.any() or a.all()\n",
      "\n",
      "----------------------------------------------------------------------\n",
      "Ran 1 test in 0.001s\n",
      "\n",
      "FAILED (errors=1)\n"
     ]
    },
    {
     "data": {
      "text/plain": [
       "<unittest.runner.TextTestResult run=1 errors=1 failures=0>"
      ]
     },
     "execution_count": 179,
     "metadata": {},
     "output_type": "execute_result"
    }
   ],
   "source": [
    "suite = unittest.TestLoader().loadTestsFromTestCase(Convert_orientationTest)\n",
    "unittest.TextTestRunner(verbosity=2).run(suite)"
   ]
  },
  {
   "cell_type": "code",
   "execution_count": 4,
   "metadata": {
    "collapsed": false
   },
   "outputs": [
    {
     "data": {
      "text/plain": [
       "array([   4.5430158,  331.0217818,  119.975442 ])"
      ]
     },
     "execution_count": 4,
     "metadata": {},
     "output_type": "execute_result"
    }
   ],
   "source": [
    "raw_orientation = {'pitch': 4.543015803, 'roll': 331.0217818, 'yaw': 119.975442}\n",
    "\n",
    "orientation = np.array([raw_orientation['pitch'], raw_orientation['roll'], raw_orientation['yaw'],  ])\n",
    "orientation"
   ]
  },
  {
   "cell_type": "code",
   "execution_count": 157,
   "metadata": {
    "collapsed": false
   },
   "outputs": [
    {
     "data": {
      "text/plain": [
       "array([  5, 331, 120])"
      ]
     },
     "execution_count": 157,
     "metadata": {},
     "output_type": "execute_result"
    }
   ],
   "source": [
    "orientation = np.round(orientation).astype(int)\n",
    "orientation"
   ]
  },
  {
   "cell_type": "code",
   "execution_count": 158,
   "metadata": {
    "collapsed": false
   },
   "outputs": [],
   "source": [
    "idx = np.where(orientation >180)"
   ]
  },
  {
   "cell_type": "code",
   "execution_count": 160,
   "metadata": {
    "collapsed": false
   },
   "outputs": [
    {
     "data": {
      "text/plain": [
       "array([331])"
      ]
     },
     "execution_count": 160,
     "metadata": {},
     "output_type": "execute_result"
    }
   ],
   "source": [
    "orientation[idx]"
   ]
  },
  {
   "cell_type": "code",
   "execution_count": 161,
   "metadata": {
    "collapsed": false
   },
   "outputs": [
    {
     "data": {
      "text/plain": [
       "array([  5, -29, 120])"
      ]
     },
     "execution_count": 161,
     "metadata": {},
     "output_type": "execute_result"
    }
   ],
   "source": [
    "orientation[idx] = orientation[idx] - 360\n",
    "orientation"
   ]
  },
  {
   "cell_type": "code",
   "execution_count": 162,
   "metadata": {
    "collapsed": false
   },
   "outputs": [
    {
     "data": {
      "text/plain": [
       "array([  5, -29, -30])"
      ]
     },
     "execution_count": 162,
     "metadata": {},
     "output_type": "execute_result"
    }
   ],
   "source": [
    "orientation[-1]  = 90 - orientation[-1]  \n",
    "orientation"
   ]
  },
  {
   "cell_type": "code",
   "execution_count": 182,
   "metadata": {
    "collapsed": false
   },
   "outputs": [],
   "source": [
    "probs = blxsense._predict_direction(orientation.reshape(1,-1))"
   ]
  },
  {
   "cell_type": "code",
   "execution_count": 183,
   "metadata": {
    "collapsed": false
   },
   "outputs": [
    {
     "name": "stdout",
     "output_type": "stream",
     "text": [
      "3 3 [0, 0, 255]\n",
      "3 2 [0, 0, 255]\n",
      "3 1 [76, 76, 255]\n",
      "4 3 [179, 179, 255]\n",
      "5 3 [0, 0, 0]\n",
      "6 3 [0, 0, 0]\n",
      "4 4 [0, 0, 0]\n",
      "4 5 [0, 0, 0]\n",
      "4 6 [0, 0, 0]\n",
      "3 4 [0, 0, 0]\n",
      "2 4 [0, 0, 0]\n",
      "1 4 [0, 0, 0]\n"
     ]
    }
   ],
   "source": [
    "blxsense._set_predicted_pixels(probs)"
   ]
  },
  {
   "cell_type": "code",
   "execution_count": 5,
   "metadata": {
    "collapsed": false
   },
   "outputs": [
    {
     "data": {
      "text/plain": [
       "array([  5, -29, -30])"
      ]
     },
     "execution_count": 5,
     "metadata": {},
     "output_type": "execute_result"
    }
   ],
   "source": [
    "blxsense.convert_orientation(raw_orientation)"
   ]
  },
  {
   "cell_type": "code",
   "execution_count": null,
   "metadata": {
    "collapsed": true
   },
   "outputs": [],
   "source": []
  }
 ],
 "metadata": {
  "anaconda-cloud": {},
  "kernelspec": {
   "display_name": "Python [Root]",
   "language": "python",
   "name": "Python [Root]"
  },
  "language_info": {
   "codemirror_mode": {
    "name": "ipython",
    "version": 2
   },
   "file_extension": ".py",
   "mimetype": "text/x-python",
   "name": "python",
   "nbconvert_exporter": "python",
   "pygments_lexer": "ipython2",
   "version": "2.7.12"
  }
 },
 "nbformat": 4,
 "nbformat_minor": 0
}
